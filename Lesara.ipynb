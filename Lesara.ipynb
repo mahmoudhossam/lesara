{
 "cells": [
  {
   "cell_type": "code",
   "execution_count": 7,
   "metadata": {},
   "outputs": [],
   "source": [
    "import pandas as pd"
   ]
  },
  {
   "cell_type": "code",
   "execution_count": 17,
   "metadata": {
    "scrolled": true
   },
   "outputs": [],
   "source": [
    "df = pd.read_csv(\"orders.csv\", parse_dates=[\"created_at_date\"])"
   ]
  },
  {
   "cell_type": "code",
   "execution_count": 18,
   "metadata": {},
   "outputs": [
    {
     "data": {
      "text/html": [
       "<div>\n",
       "<style scoped>\n",
       "    .dataframe tbody tr th:only-of-type {\n",
       "        vertical-align: middle;\n",
       "    }\n",
       "\n",
       "    .dataframe tbody tr th {\n",
       "        vertical-align: top;\n",
       "    }\n",
       "\n",
       "    .dataframe thead th {\n",
       "        text-align: right;\n",
       "    }\n",
       "</style>\n",
       "<table border=\"1\" class=\"dataframe\">\n",
       "  <thead>\n",
       "    <tr style=\"text-align: right;\">\n",
       "      <th></th>\n",
       "      <th>customer_id</th>\n",
       "      <th>order_id</th>\n",
       "      <th>order_item_id</th>\n",
       "      <th>num_items</th>\n",
       "      <th>revenue</th>\n",
       "      <th>created_at_date</th>\n",
       "    </tr>\n",
       "  </thead>\n",
       "  <tbody>\n",
       "    <tr>\n",
       "      <th>0</th>\n",
       "      <td>37d67f5feef4cb754056a54841e43ad9</td>\n",
       "      <td>4662083</td>\n",
       "      <td>21257304.0</td>\n",
       "      <td>1.0</td>\n",
       "      <td>24.79</td>\n",
       "      <td>2017-09-01</td>\n",
       "    </tr>\n",
       "    <tr>\n",
       "      <th>1</th>\n",
       "      <td>d0d7a76fea3729a9381d39aca78b52d3</td>\n",
       "      <td>4655291</td>\n",
       "      <td>21224156.0</td>\n",
       "      <td>1.0</td>\n",
       "      <td>22.68</td>\n",
       "      <td>2017-09-01</td>\n",
       "    </tr>\n",
       "    <tr>\n",
       "      <th>2</th>\n",
       "      <td>450e1c2cbd21687780153995f1be0c23</td>\n",
       "      <td>4661361</td>\n",
       "      <td>21253627.0</td>\n",
       "      <td>1.0</td>\n",
       "      <td>10.07</td>\n",
       "      <td>2017-09-01</td>\n",
       "    </tr>\n",
       "    <tr>\n",
       "      <th>3</th>\n",
       "      <td>1b9131d69fb9745f0c22e22c6d55437f</td>\n",
       "      <td>4656415</td>\n",
       "      <td>21229235.0</td>\n",
       "      <td>1.0</td>\n",
       "      <td>7.37</td>\n",
       "      <td>2017-09-01</td>\n",
       "    </tr>\n",
       "    <tr>\n",
       "      <th>4</th>\n",
       "      <td>03c9fd0e00e2cef5d72d0af8e869aabe</td>\n",
       "      <td>4658541</td>\n",
       "      <td>21239714.0</td>\n",
       "      <td>1.0</td>\n",
       "      <td>16.66</td>\n",
       "      <td>2017-09-01</td>\n",
       "    </tr>\n",
       "  </tbody>\n",
       "</table>\n",
       "</div>"
      ],
      "text/plain": [
       "                        customer_id  order_id  order_item_id  num_items  \\\n",
       "0  37d67f5feef4cb754056a54841e43ad9   4662083     21257304.0        1.0   \n",
       "1  d0d7a76fea3729a9381d39aca78b52d3   4655291     21224156.0        1.0   \n",
       "2  450e1c2cbd21687780153995f1be0c23   4661361     21253627.0        1.0   \n",
       "3  1b9131d69fb9745f0c22e22c6d55437f   4656415     21229235.0        1.0   \n",
       "4  03c9fd0e00e2cef5d72d0af8e869aabe   4658541     21239714.0        1.0   \n",
       "\n",
       "   revenue created_at_date  \n",
       "0    24.79      2017-09-01  \n",
       "1    22.68      2017-09-01  \n",
       "2    10.07      2017-09-01  \n",
       "3     7.37      2017-09-01  \n",
       "4    16.66      2017-09-01  "
      ]
     },
     "execution_count": 18,
     "metadata": {},
     "output_type": "execute_result"
    }
   ],
   "source": [
    "df.head()"
   ]
  },
  {
   "cell_type": "code",
   "execution_count": 10,
   "metadata": {},
   "outputs": [
    {
     "data": {
      "text/plain": [
       "Index(['customer_id', 'order_id', 'order_item_id', 'num_items', 'revenue',\n",
       "       'created_at_date'],\n",
       "      dtype='object')"
      ]
     },
     "execution_count": 10,
     "metadata": {},
     "output_type": "execute_result"
    }
   ],
   "source": [
    "df.keys()"
   ]
  },
  {
   "cell_type": "code",
   "execution_count": 11,
   "metadata": {},
   "outputs": [],
   "source": [
    "grouped = df.groupby(\"customer_id\")"
   ]
  },
  {
   "cell_type": "code",
   "execution_count": 12,
   "metadata": {},
   "outputs": [],
   "source": [
    "import dill"
   ]
  },
  {
   "cell_type": "code",
   "execution_count": 13,
   "metadata": {},
   "outputs": [],
   "source": [
    "import numpy"
   ]
  },
  {
   "cell_type": "code",
   "execution_count": 14,
   "metadata": {},
   "outputs": [],
   "source": [
    "model = dill.load(open(\"model.dill\", 'rb'))"
   ]
  },
  {
   "cell_type": "code",
   "execution_count": 15,
   "metadata": {},
   "outputs": [],
   "source": [
    "array = numpy.array([[2, 5, 6, 7, 9, 10], [3, 6, 7, 8, 11, 12]])"
   ]
  },
  {
   "cell_type": "code",
   "execution_count": 16,
   "metadata": {},
   "outputs": [
    {
     "data": {
      "text/plain": [
       "array([39, 47])"
      ]
     },
     "execution_count": 16,
     "metadata": {},
     "output_type": "execute_result"
    }
   ],
   "source": [
    "model.predict(array)"
   ]
  },
  {
   "cell_type": "code",
   "execution_count": null,
   "metadata": {},
   "outputs": [],
   "source": [
    "df.groupby()"
   ]
  },
  {
   "cell_type": "code",
   "execution_count": 7,
   "metadata": {},
   "outputs": [],
   "source": [
    "%matplotlib inline"
   ]
  },
  {
   "cell_type": "code",
   "execution_count": 6,
   "metadata": {},
   "outputs": [
    {
     "data": {
      "text/plain": [
       "<matplotlib.axes._subplots.AxesSubplot at 0x7f0148c28cf8>"
      ]
     },
     "execution_count": 6,
     "metadata": {},
     "output_type": "execute_result"
    },
    {
     "data": {
      "image/png": "[encoded data removed]",
      "text/plain": [
       "<matplotlib.figure.Figure at 0x7f014526d7f0>"
      ]
     },
     "metadata": {},
     "output_type": "display_data"
    }
   ],
   "source": [
    "df['revenue'].plot()"
   ]
  }
 ],
 "metadata": {
  "kernelspec": {
   "display_name": "Python 3",
   "language": "python",
   "name": "python3"
  },
  "language_info": {
   "codemirror_mode": {
    "name": "ipython",
    "version": 3
   },
   "file_extension": ".py",
   "mimetype": "text/x-python",
   "name": "python",
   "nbconvert_exporter": "python",
   "pygments_lexer": "ipython3",
   "version": "3.6.2"
  }
 },
 "nbformat": 4,
 "nbformat_minor": 2
}
